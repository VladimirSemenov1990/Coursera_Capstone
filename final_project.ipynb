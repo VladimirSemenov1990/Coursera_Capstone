{
 "cells": [
  {
   "cell_type": "markdown",
   "metadata": {},
   "source": [
    "***THE BATTLE OF NEIGHBORHOODS***"
   ]
  },
  {
   "cell_type": "markdown",
   "metadata": {},
   "source": [
    "**Introduction**"
   ]
  },
  {
   "cell_type": "markdown",
   "metadata": {},
   "source": [
    "There are many restaurants in New York City, belonging to different categories like Chinese, Indian, and French etc. The facts mentioned in the introduction make New York City to be an attractive market in terms of food business. Perspectives of opening Russian restaurant are considered in the present project."
   ]
  },
  {
   "cell_type": "markdown",
   "metadata": {},
   "source": [
    "**Data**"
   ]
  },
  {
   "cell_type": "markdown",
   "metadata": {},
   "source": [
    "1) List of boroughs and neighbourhoods of New York City with their latitude and longitude"
   ]
  },
  {
   "cell_type": "markdown",
   "metadata": {},
   "source": [
    "2) Russian restaurants in each neighbourhood of New York City"
   ]
  },
  {
   "cell_type": "markdown",
   "metadata": {},
   "source": [
    "3) GeoSpace data"
   ]
  },
  {
   "cell_type": "markdown",
   "metadata": {},
   "source": [
    "**Considered issues**"
   ]
  },
  {
   "cell_type": "markdown",
   "metadata": {},
   "source": [
    "1) Visualization of all major parts of New York City that have reach Russian restaurants. "
   ]
  },
  {
   "cell_type": "markdown",
   "metadata": {},
   "source": [
    "2) What is best location for Russian Cuisine in New York City?"
   ]
  },
  {
   "cell_type": "markdown",
   "metadata": {},
   "source": [
    "3) Which areas can be considered as a potential Russian restaurant market?"
   ]
  },
  {
   "cell_type": "markdown",
   "metadata": {},
   "source": [
    "4) What is the best place to stay if you prefer Russian Cuisine?"
   ]
  },
  {
   "cell_type": "markdown",
   "metadata": {},
   "source": [
    "**First step is importing libraties**"
   ]
  },
  {
   "cell_type": "code",
   "execution_count": 1,
   "metadata": {},
   "outputs": [],
   "source": [
    "#! pip install lxml\n",
    "#! pip install BeautifulSoup4\n",
    "\n",
    "import numpy as np \n",
    "import pandas as pd\n",
    "import requests\n",
    "import lxml.html as lh\n",
    "import bs4 as bs\n",
    "import urllib.request\n",
    "import json"
   ]
  },
  {
   "cell_type": "code",
   "execution_count": 2,
   "metadata": {},
   "outputs": [
    {
     "name": "stdout",
     "output_type": "stream",
     "text": [
      "Libraries imported.\n"
     ]
    }
   ],
   "source": [
    "pd.set_option('display.max_columns', None)\n",
    "pd.set_option('display.max_rows', None)\n",
    "\n",
    "#!pip install geocoder\n",
    "#!pip install folium\n",
    "#!pip install geopy\n",
    "\n",
    "import geocoder\n",
    "import os\n",
    "\n",
    "import folium # map rendering library\n",
    "\n",
    "from geopy.geocoders import Nominatim # convert an address into latitude and longitude values\n",
    "from pandas.io.json import json_normalize\n",
    "\n",
    "# Matplotlib and associated plotting modules\n",
    "import matplotlib.pyplot as plt\n",
    "import matplotlib.cm as cm\n",
    "import matplotlib.colors as colors\n",
    "%matplotlib inline\n",
    "\n",
    "\n",
    "print('Libraries imported.')"
   ]
  },
  {
   "cell_type": "markdown",
   "metadata": {},
   "source": [
    "Let me define a function to get the geocodes i.e latitude and longitude of a given location using geopy."
   ]
  },
  {
   "cell_type": "code",
   "execution_count": 3,
   "metadata": {},
   "outputs": [],
   "source": [
    "def geo_location(address):\n",
    "    # get geo location of address\n",
    "    geolocator = Nominatim(user_agent=\"ny_explorer\")\n",
    "    location = geolocator.geocode(address)\n",
    "    latitude = location.latitude\n",
    "    longitude = location.longitude\n",
    "    return latitude,longitude"
   ]
  },
  {
   "cell_type": "markdown",
   "metadata": {},
   "source": [
    "Next we define a function to interact with FourSquare API and get top 100 venues within a radius of 1000 metres for a given latitude and longitude. Below function will return us the venue id , venue name and category."
   ]
  },
  {
   "cell_type": "code",
   "execution_count": 4,
   "metadata": {},
   "outputs": [],
   "source": [
    "def get_venues(lat,lng):\n",
    "    \n",
    "    #set variables\n",
    "    radius=1000\n",
    "    LIMIT=100\n",
    "    CLIENT_ID = '3API0X0UYMDORD5TTGCJOX3UVMO4BKA1PG1VGES00SCMQCAH' # your Foursquare ID\n",
    "    CLIENT_SECRET = '3NNCVYMLFTS0AAANUU3ZW5DUGRRU4PEPROXFXZRK43WQRENT' # your Foursquare Secret\n",
    "    VERSION = '20201020' # Foursquare API version\n",
    "    \n",
    "    #url to fetch data from foursquare api\n",
    "    url = 'https://api.foursquare.com/v2/venues/explore?&client_id={}&client_secret={}&v={}&ll={},{}&radius={}&limit={}'.format(\n",
    "            CLIENT_ID, \n",
    "            CLIENT_SECRET, \n",
    "            VERSION, \n",
    "            lat, \n",
    "            lng, \n",
    "            radius, \n",
    "            LIMIT)\n",
    "    \n",
    "    # get all the data\n",
    "    results = requests.get(url).json()\n",
    "    venue_data=results['response']['groups'][0]['items']\n",
    "    venue_details=[]\n",
    "    for row in venue_data:\n",
    "        try:\n",
    "            venue_id=row['venue']['id']\n",
    "            venue_name=row['venue']['name']\n",
    "            venue_category=row['venue']['categories'][0]['name']\n",
    "            venue_details.append([venue_id,venue_name,venue_category])\n",
    "        except KeyError:\n",
    "            pass\n",
    "        \n",
    "    column_names=['ID','Name','Category']\n",
    "    df = pd.DataFrame(venue_details,columns=column_names)\n",
    "    return df"
   ]
  },
  {
   "cell_type": "markdown",
   "metadata": {},
   "source": [
    "Next we will define a function to get venue details like count , rating , tip counts for a given venue id. This will be used for ranking."
   ]
  },
  {
   "cell_type": "code",
   "execution_count": 29,
   "metadata": {},
   "outputs": [],
   "source": [
    "def get_venue_details(venue_id):\n",
    "        \n",
    "    CLIENT_ID = '3API0X0UYMDORD5TTGCJOX3UVMO4BKA1PG1VGES00SCMQCAH' # your Foursquare ID\n",
    "    CLIENT_SECRET = '3NNCVYMLFTS0AAANUU3ZW5DUGRRU4PEPROXFXZRK43WQRENT' # your Foursquare Secret\n",
    "    VERSION = '20201020' # Foursquare API version\n",
    "    \n",
    "    #url to fetch data from foursquare api\n",
    "    url = 'https://api.foursquare.com/v2/venues/{}?&client_id={}&client_secret={}&v={}'.format(\n",
    "            venue_id,\n",
    "            CLIENT_ID, \n",
    "            CLIENT_SECRET, \n",
    "            VERSION)\n",
    "    \n",
    "    # get all the data\n",
    "    results = requests.get(url).json()\n",
    "    venue_data=results['response']['venue']\n",
    "    venue_details=[]\n",
    "    try:\n",
    "        venue_id=venue_data['id']\n",
    "        venue_name=venue_data['name']\n",
    "        venue_likes=venue_data['likes']['count']\n",
    "        venue_rating=venue_data['rating']\n",
    "        venue_tips=venue_data['tips']['count']\n",
    "        venue_details.append([venue_id,venue_name,venue_likes,venue_rating,venue_tips])\n",
    "    except KeyError:\n",
    "        pass\n",
    "        \n",
    "    column_names=['ID','Name','Likes','Rating','Tips']\n",
    "    df = pd.DataFrame(venue_details,columns=column_names)\n",
    "    return df"
   ]
  },
  {
   "cell_type": "markdown",
   "metadata": {},
   "source": [
    "Then we define a funtion to get the new york city data such as Boroughs, Neighborhoods along with their latitude and longitude."
   ]
  },
  {
   "cell_type": "code",
   "execution_count": 6,
   "metadata": {},
   "outputs": [],
   "source": [
    "def get_new_york_data():\n",
    "    url='https://cocl.us/new_york_dataset'\n",
    "    resp=requests.get(url).json()\n",
    "    # all data is present in features label\n",
    "    features=resp['features']\n",
    "    \n",
    "    # define the dataframe columns\n",
    "    column_names = ['Borough', 'Neighborhood', 'Latitude', 'Longitude'] \n",
    "    # instantiate the dataframe\n",
    "    new_york_data = pd.DataFrame(columns=column_names)\n",
    "    \n",
    "    for data in features:\n",
    "        borough = data['properties']['borough'] \n",
    "        neighborhood_name = data['properties']['name']\n",
    "        \n",
    "        neighborhood_latlon = data['geometry']['coordinates']\n",
    "        neighborhood_lat = neighborhood_latlon[1]\n",
    "        neighborhood_lon = neighborhood_latlon[0]\n",
    "    \n",
    "        new_york_data = new_york_data.append({'Borough': borough,\n",
    "                                          'Neighborhood': neighborhood_name,\n",
    "                                          'Latitude': neighborhood_lat,\n",
    "                                          'Longitude': neighborhood_lon}, ignore_index=True)\n",
    "    \n",
    "    return new_york_data"
   ]
  },
  {
   "cell_type": "markdown",
   "metadata": {},
   "source": [
    "The funtion described above are called"
   ]
  },
  {
   "cell_type": "code",
   "execution_count": 7,
   "metadata": {},
   "outputs": [],
   "source": [
    "new_york_data=get_new_york_data()"
   ]
  },
  {
   "cell_type": "code",
   "execution_count": 8,
   "metadata": {},
   "outputs": [
    {
     "data": {
      "text/html": [
       "<div>\n",
       "<style scoped>\n",
       "    .dataframe tbody tr th:only-of-type {\n",
       "        vertical-align: middle;\n",
       "    }\n",
       "\n",
       "    .dataframe tbody tr th {\n",
       "        vertical-align: top;\n",
       "    }\n",
       "\n",
       "    .dataframe thead th {\n",
       "        text-align: right;\n",
       "    }\n",
       "</style>\n",
       "<table border=\"1\" class=\"dataframe\">\n",
       "  <thead>\n",
       "    <tr style=\"text-align: right;\">\n",
       "      <th></th>\n",
       "      <th>Borough</th>\n",
       "      <th>Neighborhood</th>\n",
       "      <th>Latitude</th>\n",
       "      <th>Longitude</th>\n",
       "    </tr>\n",
       "  </thead>\n",
       "  <tbody>\n",
       "    <tr>\n",
       "      <th>0</th>\n",
       "      <td>Bronx</td>\n",
       "      <td>Wakefield</td>\n",
       "      <td>40.894705</td>\n",
       "      <td>-73.847201</td>\n",
       "    </tr>\n",
       "    <tr>\n",
       "      <th>1</th>\n",
       "      <td>Bronx</td>\n",
       "      <td>Co-op City</td>\n",
       "      <td>40.874294</td>\n",
       "      <td>-73.829939</td>\n",
       "    </tr>\n",
       "    <tr>\n",
       "      <th>2</th>\n",
       "      <td>Bronx</td>\n",
       "      <td>Eastchester</td>\n",
       "      <td>40.887556</td>\n",
       "      <td>-73.827806</td>\n",
       "    </tr>\n",
       "    <tr>\n",
       "      <th>3</th>\n",
       "      <td>Bronx</td>\n",
       "      <td>Fieldston</td>\n",
       "      <td>40.895437</td>\n",
       "      <td>-73.905643</td>\n",
       "    </tr>\n",
       "    <tr>\n",
       "      <th>4</th>\n",
       "      <td>Bronx</td>\n",
       "      <td>Riverdale</td>\n",
       "      <td>40.890834</td>\n",
       "      <td>-73.912585</td>\n",
       "    </tr>\n",
       "  </tbody>\n",
       "</table>\n",
       "</div>"
      ],
      "text/plain": [
       "  Borough Neighborhood   Latitude  Longitude\n",
       "0   Bronx    Wakefield  40.894705 -73.847201\n",
       "1   Bronx   Co-op City  40.874294 -73.829939\n",
       "2   Bronx  Eastchester  40.887556 -73.827806\n",
       "3   Bronx    Fieldston  40.895437 -73.905643\n",
       "4   Bronx    Riverdale  40.890834 -73.912585"
      ]
     },
     "execution_count": 8,
     "metadata": {},
     "output_type": "execute_result"
    }
   ],
   "source": [
    "new_york_data.head()"
   ]
  },
  {
   "cell_type": "code",
   "execution_count": 9,
   "metadata": {},
   "outputs": [
    {
     "data": {
      "text/plain": [
       "(306, 4)"
      ]
     },
     "execution_count": 9,
     "metadata": {},
     "output_type": "execute_result"
    }
   ],
   "source": [
    "new_york_data.shape"
   ]
  },
  {
   "cell_type": "markdown",
   "metadata": {},
   "source": [
    "The above result shows that there are 306 different Neighborhoods in New York.\n",
    "Now let create a BAR PLOT to show different Neighborhoods in New York."
   ]
  },
  {
   "cell_type": "code",
   "execution_count": 10,
   "metadata": {},
   "outputs": [
    {
     "data": {
      "image/png": "[encoded data removed]",
      "text/plain": [
       "<Figure size 900x500 with 1 Axes>"
      ]
     },
     "metadata": {
      "needs_background": "light"
     },
     "output_type": "display_data"
    }
   ],
   "source": [
    "plt.figure(figsize=(9,5), dpi = 100)\n",
    "# title\n",
    "plt.title('Number of Neighborhood for each Borough in New York City')\n",
    "#On x-axis\n",
    "plt.xlabel('Borough', fontsize = 15)\n",
    "#On y-axis\n",
    "plt.ylabel('No.of Neighborhood', fontsize=15)\n",
    "#giving a bar plot\n",
    "new_york_data.groupby('Borough')['Neighborhood'].count().plot(kind='bar')\n",
    "#legend\n",
    "plt.legend()\n",
    "#displays the plot\n",
    "plt.show()"
   ]
  },
  {
   "cell_type": "markdown",
   "metadata": {},
   "source": [
    "It is seen from the above Bar Plot that **Queens has highest number of neighborhoods**."
   ]
  },
  {
   "cell_type": "markdown",
   "metadata": {},
   "source": [
    "Next we  create a list of Russian resturants for each Neighborhood."
   ]
  },
  {
   "cell_type": "code",
   "execution_count": 11,
   "metadata": {},
   "outputs": [
    {
     "name": "stdout",
     "output_type": "stream",
     "text": [
      "( 1 / 306 ) Russian Resturants in Wakefield, Bronx:0\n",
      "( 2 / 306 ) Russian Resturants in Co-op City, Bronx:0\n",
      "( 3 / 306 ) Russian Resturants in Eastchester, Bronx:0\n",
      "( 4 / 306 ) Russian Resturants in Fieldston, Bronx:0\n",
      "( 5 / 306 ) Russian Resturants in Riverdale, Bronx:0\n",
      "( 6 / 306 ) Russian Resturants in Kingsbridge, Bronx:0\n",
      "( 7 / 306 ) Russian Resturants in Marble Hill, Manhattan:0\n",
      "( 8 / 306 ) Russian Resturants in Woodlawn, Bronx:0\n",
      "( 9 / 306 ) Russian Resturants in Norwood, Bronx:0\n",
      "( 10 / 306 ) Russian Resturants in Williamsbridge, Bronx:0\n",
      "( 11 / 306 ) Russian Resturants in Baychester, Bronx:0\n",
      "( 12 / 306 ) Russian Resturants in Pelham Parkway, Bronx:0\n",
      "( 13 / 306 ) Russian Resturants in City Island, Bronx:0\n",
      "( 14 / 306 ) Russian Resturants in Bedford Park, Bronx:0\n",
      "( 15 / 306 ) Russian Resturants in University Heights, Bronx:0\n",
      "( 16 / 306 ) Russian Resturants in Morris Heights, Bronx:0\n",
      "( 17 / 306 ) Russian Resturants in Fordham, Bronx:0\n",
      "( 18 / 306 ) Russian Resturants in East Tremont, Bronx:0\n",
      "( 19 / 306 ) Russian Resturants in West Farms, Bronx:0\n",
      "( 20 / 306 ) Russian Resturants in High  Bridge, Bronx:0\n",
      "( 21 / 306 ) Russian Resturants in Melrose, Bronx:0\n",
      "( 22 / 306 ) Russian Resturants in Mott Haven, Bronx:0\n",
      "( 23 / 306 ) Russian Resturants in Port Morris, Bronx:0\n",
      "( 24 / 306 ) Russian Resturants in Longwood, Bronx:0\n",
      "( 25 / 306 ) Russian Resturants in Hunts Point, Bronx:0\n",
      "( 26 / 306 ) Russian Resturants in Morrisania, Bronx:0\n",
      "( 27 / 306 ) Russian Resturants in Soundview, Bronx:0\n",
      "( 28 / 306 ) Russian Resturants in Clason Point, Bronx:0\n",
      "( 29 / 306 ) Russian Resturants in Throgs Neck, Bronx:0\n",
      "( 30 / 306 ) Russian Resturants in Country Club, Bronx:0\n",
      "( 31 / 306 ) Russian Resturants in Parkchester, Bronx:0\n",
      "( 32 / 306 ) Russian Resturants in Westchester Square, Bronx:0\n",
      "( 33 / 306 ) Russian Resturants in Van Nest, Bronx:0\n",
      "( 34 / 306 ) Russian Resturants in Morris Park, Bronx:0\n",
      "( 35 / 306 ) Russian Resturants in Belmont, Bronx:0\n",
      "( 36 / 306 ) Russian Resturants in Spuyten Duyvil, Bronx:0\n",
      "( 37 / 306 ) Russian Resturants in North Riverdale, Bronx:0\n",
      "( 38 / 306 ) Russian Resturants in Pelham Bay, Bronx:0\n",
      "( 39 / 306 ) Russian Resturants in Schuylerville, Bronx:0\n",
      "( 40 / 306 ) Russian Resturants in Edgewater Park, Bronx:0\n",
      "( 41 / 306 ) Russian Resturants in Castle Hill, Bronx:0\n",
      "( 42 / 306 ) Russian Resturants in Olinville, Bronx:0\n",
      "( 43 / 306 ) Russian Resturants in Pelham Gardens, Bronx:0\n",
      "( 44 / 306 ) Russian Resturants in Concourse, Bronx:0\n",
      "( 45 / 306 ) Russian Resturants in Unionport, Bronx:0\n",
      "( 46 / 306 ) Russian Resturants in Edenwald, Bronx:0\n",
      "( 47 / 306 ) Russian Resturants in Bay Ridge, Brooklyn:0\n",
      "( 48 / 306 ) Russian Resturants in Bensonhurst, Brooklyn:0\n",
      "( 49 / 306 ) Russian Resturants in Sunset Park, Brooklyn:0\n",
      "( 50 / 306 ) Russian Resturants in Greenpoint, Brooklyn:0\n",
      "( 51 / 306 ) Russian Resturants in Gravesend, Brooklyn:1\n",
      "( 52 / 306 ) Russian Resturants in Brighton Beach, Brooklyn:3\n",
      "( 53 / 306 ) Russian Resturants in Sheepshead Bay, Brooklyn:5\n",
      "( 54 / 306 ) Russian Resturants in Manhattan Terrace, Brooklyn:1\n",
      "( 55 / 306 ) Russian Resturants in Flatbush, Brooklyn:0\n",
      "( 56 / 306 ) Russian Resturants in Crown Heights, Brooklyn:0\n",
      "( 57 / 306 ) Russian Resturants in East Flatbush, Brooklyn:0\n",
      "( 58 / 306 ) Russian Resturants in Kensington, Brooklyn:0\n",
      "( 59 / 306 ) Russian Resturants in Windsor Terrace, Brooklyn:0\n",
      "( 60 / 306 ) Russian Resturants in Prospect Heights, Brooklyn:0\n",
      "( 61 / 306 ) Russian Resturants in Brownsville, Brooklyn:0\n",
      "( 62 / 306 ) Russian Resturants in Williamsburg, Brooklyn:0\n",
      "( 63 / 306 ) Russian Resturants in Bushwick, Brooklyn:0\n",
      "( 64 / 306 ) Russian Resturants in Bedford Stuyvesant, Brooklyn:0\n",
      "( 65 / 306 ) Russian Resturants in Brooklyn Heights, Brooklyn:0\n",
      "( 66 / 306 ) Russian Resturants in Cobble Hill, Brooklyn:0\n",
      "( 67 / 306 ) Russian Resturants in Carroll Gardens, Brooklyn:0\n",
      "( 68 / 306 ) Russian Resturants in Red Hook, Brooklyn:0\n",
      "( 69 / 306 ) Russian Resturants in Gowanus, Brooklyn:0\n",
      "( 70 / 306 ) Russian Resturants in Fort Greene, Brooklyn:0\n",
      "( 71 / 306 ) Russian Resturants in Park Slope, Brooklyn:0\n",
      "( 72 / 306 ) Russian Resturants in Cypress Hills, Brooklyn:0\n",
      "( 73 / 306 ) Russian Resturants in East New York, Brooklyn:0\n",
      "( 74 / 306 ) Russian Resturants in Starrett City, Brooklyn:0\n",
      "( 75 / 306 ) Russian Resturants in Canarsie, Brooklyn:0\n",
      "( 76 / 306 ) Russian Resturants in Flatlands, Brooklyn:0\n",
      "( 77 / 306 ) Russian Resturants in Mill Island, Brooklyn:0\n",
      "( 78 / 306 ) Russian Resturants in Manhattan Beach, Brooklyn:2\n",
      "( 79 / 306 ) Russian Resturants in Coney Island, Brooklyn:0\n",
      "( 80 / 306 ) Russian Resturants in Bath Beach, Brooklyn:0\n",
      "( 81 / 306 ) Russian Resturants in Borough Park, Brooklyn:0\n",
      "( 82 / 306 ) Russian Resturants in Dyker Heights, Brooklyn:0\n",
      "( 83 / 306 ) Russian Resturants in Gerritsen Beach, Brooklyn:2\n",
      "( 84 / 306 ) Russian Resturants in Marine Park, Brooklyn:0\n",
      "( 85 / 306 ) Russian Resturants in Clinton Hill, Brooklyn:0\n",
      "( 86 / 306 ) Russian Resturants in Sea Gate, Brooklyn:0\n",
      "( 87 / 306 ) Russian Resturants in Downtown, Brooklyn:0\n",
      "( 88 / 306 ) Russian Resturants in Boerum Hill, Brooklyn:0\n",
      "( 89 / 306 ) Russian Resturants in Prospect Lefferts Gardens, Brooklyn:0\n",
      "( 90 / 306 ) Russian Resturants in Ocean Hill, Brooklyn:0\n",
      "( 91 / 306 ) Russian Resturants in City Line, Brooklyn:0\n",
      "( 92 / 306 ) Russian Resturants in Bergen Beach, Brooklyn:0\n",
      "( 93 / 306 ) Russian Resturants in Midwood, Brooklyn:0\n",
      "( 94 / 306 ) Russian Resturants in Prospect Park South, Brooklyn:0\n",
      "( 95 / 306 ) Russian Resturants in Georgetown, Brooklyn:0\n",
      "( 96 / 306 ) Russian Resturants in East Williamsburg, Brooklyn:0\n",
      "( 97 / 306 ) Russian Resturants in North Side, Brooklyn:0\n",
      "( 98 / 306 ) Russian Resturants in South Side, Brooklyn:0\n",
      "( 99 / 306 ) Russian Resturants in Ocean Parkway, Brooklyn:1\n",
      "( 100 / 306 ) Russian Resturants in Fort Hamilton, Brooklyn:0\n",
      "( 101 / 306 ) Russian Resturants in Chinatown, Manhattan:0\n",
      "( 102 / 306 ) Russian Resturants in Washington Heights, Manhattan:0\n",
      "( 103 / 306 ) Russian Resturants in Inwood, Manhattan:0\n",
      "( 104 / 306 ) Russian Resturants in Hamilton Heights, Manhattan:0\n",
      "( 105 / 306 ) Russian Resturants in Manhattanville, Manhattan:0\n",
      "( 106 / 306 ) Russian Resturants in Central Harlem, Manhattan:0\n",
      "( 107 / 306 ) Russian Resturants in East Harlem, Manhattan:0\n",
      "( 108 / 306 ) Russian Resturants in Upper East Side, Manhattan:0\n",
      "( 109 / 306 ) Russian Resturants in Yorkville, Manhattan:0\n",
      "( 110 / 306 ) Russian Resturants in Lenox Hill, Manhattan:0\n",
      "( 111 / 306 ) Russian Resturants in Roosevelt Island, Manhattan:0\n",
      "( 112 / 306 ) Russian Resturants in Upper West Side, Manhattan:0\n",
      "( 113 / 306 ) Russian Resturants in Lincoln Square, Manhattan:0\n",
      "( 114 / 306 ) Russian Resturants in Clinton, Manhattan:0\n",
      "( 115 / 306 ) Russian Resturants in Midtown, Manhattan:0\n",
      "( 116 / 306 ) Russian Resturants in Murray Hill, Manhattan:0\n",
      "( 117 / 306 ) Russian Resturants in Chelsea, Manhattan:0\n",
      "( 118 / 306 ) Russian Resturants in Greenwich Village, Manhattan:0\n",
      "( 119 / 306 ) Russian Resturants in East Village, Manhattan:0\n",
      "( 120 / 306 ) Russian Resturants in Lower East Side, Manhattan:0\n",
      "( 121 / 306 ) Russian Resturants in Tribeca, Manhattan:0\n",
      "( 122 / 306 ) Russian Resturants in Little Italy, Manhattan:0\n",
      "( 123 / 306 ) Russian Resturants in Soho, Manhattan:0\n",
      "( 124 / 306 ) Russian Resturants in West Village, Manhattan:0\n",
      "( 125 / 306 ) Russian Resturants in Manhattan Valley, Manhattan:0\n",
      "( 126 / 306 ) Russian Resturants in Morningside Heights, Manhattan:0\n",
      "( 127 / 306 ) Russian Resturants in Gramercy, Manhattan:1\n",
      "( 128 / 306 ) Russian Resturants in Battery Park City, Manhattan:0\n",
      "( 129 / 306 ) Russian Resturants in Financial District, Manhattan:0\n",
      "( 130 / 306 ) Russian Resturants in Astoria, Queens:0\n",
      "( 131 / 306 ) Russian Resturants in Woodside, Queens:0\n",
      "( 132 / 306 ) Russian Resturants in Jackson Heights, Queens:0\n",
      "( 133 / 306 ) Russian Resturants in Elmhurst, Queens:0\n",
      "( 134 / 306 ) Russian Resturants in Howard Beach, Queens:0\n",
      "( 135 / 306 ) Russian Resturants in Corona, Queens:0\n",
      "( 136 / 306 ) Russian Resturants in Forest Hills, Queens:0\n",
      "( 137 / 306 ) Russian Resturants in Kew Gardens, Queens:0\n",
      "( 138 / 306 ) Russian Resturants in Richmond Hill, Queens:0\n",
      "( 139 / 306 ) Russian Resturants in Flushing, Queens:0\n",
      "( 140 / 306 ) Russian Resturants in Long Island City, Queens:0\n",
      "( 141 / 306 ) Russian Resturants in Sunnyside, Queens:0\n",
      "( 142 / 306 ) Russian Resturants in East Elmhurst, Queens:0\n",
      "( 143 / 306 ) Russian Resturants in Maspeth, Queens:0\n",
      "( 144 / 306 ) Russian Resturants in Ridgewood, Queens:0\n",
      "( 145 / 306 ) Russian Resturants in Glendale, Queens:0\n",
      "( 146 / 306 ) Russian Resturants in Rego Park, Queens:0\n",
      "( 147 / 306 ) Russian Resturants in Woodhaven, Queens:0\n",
      "( 148 / 306 ) Russian Resturants in Ozone Park, Queens:0\n",
      "( 149 / 306 ) Russian Resturants in South Ozone Park, Queens:0\n",
      "( 150 / 306 ) Russian Resturants in College Point, Queens:0\n",
      "( 151 / 306 ) Russian Resturants in Whitestone, Queens:0\n",
      "( 152 / 306 ) Russian Resturants in Bayside, Queens:0\n",
      "( 153 / 306 ) Russian Resturants in Auburndale, Queens:0\n",
      "( 154 / 306 ) Russian Resturants in Little Neck, Queens:0\n",
      "( 155 / 306 ) Russian Resturants in Douglaston, Queens:0\n",
      "( 156 / 306 ) Russian Resturants in Glen Oaks, Queens:0\n",
      "( 157 / 306 ) Russian Resturants in Bellerose, Queens:0\n",
      "( 158 / 306 ) Russian Resturants in Kew Gardens Hills, Queens:0\n",
      "( 159 / 306 ) Russian Resturants in Fresh Meadows, Queens:0\n",
      "( 160 / 306 ) Russian Resturants in Briarwood, Queens:0\n",
      "( 161 / 306 ) Russian Resturants in Jamaica Center, Queens:0\n",
      "( 162 / 306 ) Russian Resturants in Oakland Gardens, Queens:0\n",
      "( 163 / 306 ) Russian Resturants in Queens Village, Queens:0\n",
      "( 164 / 306 ) Russian Resturants in Hollis, Queens:0\n",
      "( 165 / 306 ) Russian Resturants in South Jamaica, Queens:0\n",
      "( 166 / 306 ) Russian Resturants in St. Albans, Queens:0\n",
      "( 167 / 306 ) Russian Resturants in Rochdale, Queens:0\n",
      "( 168 / 306 ) Russian Resturants in Springfield Gardens, Queens:0\n",
      "( 169 / 306 ) Russian Resturants in Cambria Heights, Queens:0\n",
      "( 170 / 306 ) Russian Resturants in Rosedale, Queens:0\n",
      "( 171 / 306 ) Russian Resturants in Far Rockaway, Queens:0\n",
      "( 172 / 306 ) Russian Resturants in Broad Channel, Queens:0\n",
      "( 173 / 306 ) Russian Resturants in Breezy Point, Queens:0\n",
      "( 174 / 306 ) Russian Resturants in Steinway, Queens:0\n",
      "( 175 / 306 ) Russian Resturants in Beechhurst, Queens:0\n",
      "( 176 / 306 ) Russian Resturants in Bay Terrace, Queens:0\n",
      "( 177 / 306 ) Russian Resturants in Edgemere, Queens:0\n",
      "( 178 / 306 ) Russian Resturants in Arverne, Queens:0\n",
      "( 179 / 306 ) Russian Resturants in Rockaway Beach, Queens:0\n",
      "( 180 / 306 ) Russian Resturants in Neponsit, Queens:0\n",
      "( 181 / 306 ) Russian Resturants in Murray Hill, Queens:0\n",
      "( 182 / 306 ) Russian Resturants in Floral Park, Queens:0\n",
      "( 183 / 306 ) Russian Resturants in Holliswood, Queens:0\n",
      "( 184 / 306 ) Russian Resturants in Jamaica Estates, Queens:0\n",
      "( 185 / 306 ) Russian Resturants in Queensboro Hill, Queens:0\n",
      "( 186 / 306 ) Russian Resturants in Hillcrest, Queens:0\n",
      "( 187 / 306 ) Russian Resturants in Ravenswood, Queens:0\n",
      "( 188 / 306 ) Russian Resturants in Lindenwood, Queens:0\n",
      "( 189 / 306 ) Russian Resturants in Laurelton, Queens:0\n",
      "( 190 / 306 ) Russian Resturants in Lefrak City, Queens:0\n",
      "( 191 / 306 ) Russian Resturants in Belle Harbor, Queens:0\n",
      "( 192 / 306 ) Russian Resturants in Rockaway Park, Queens:0\n",
      "( 193 / 306 ) Russian Resturants in Somerville, Queens:0\n",
      "( 194 / 306 ) Russian Resturants in Brookville, Queens:0\n",
      "( 195 / 306 ) Russian Resturants in Bellaire, Queens:0\n",
      "( 196 / 306 ) Russian Resturants in North Corona, Queens:0\n",
      "( 197 / 306 ) Russian Resturants in Forest Hills Gardens, Queens:0\n",
      "( 198 / 306 ) Russian Resturants in St. George, Staten Island:0\n",
      "( 199 / 306 ) Russian Resturants in New Brighton, Staten Island:0\n",
      "( 200 / 306 ) Russian Resturants in Stapleton, Staten Island:0\n",
      "( 201 / 306 ) Russian Resturants in Rosebank, Staten Island:0\n",
      "( 202 / 306 ) Russian Resturants in West Brighton, Staten Island:0\n",
      "( 203 / 306 ) Russian Resturants in Grymes Hill, Staten Island:0\n",
      "( 204 / 306 ) Russian Resturants in Todt Hill, Staten Island:0\n",
      "( 205 / 306 ) Russian Resturants in South Beach, Staten Island:0\n",
      "( 206 / 306 ) Russian Resturants in Port Richmond, Staten Island:0\n",
      "( 207 / 306 ) Russian Resturants in Mariner's Harbor, Staten Island:0\n",
      "( 208 / 306 ) Russian Resturants in Port Ivory, Staten Island:0\n",
      "( 209 / 306 ) Russian Resturants in Castleton Corners, Staten Island:0\n",
      "( 210 / 306 ) Russian Resturants in New Springville, Staten Island:0\n",
      "( 211 / 306 ) Russian Resturants in Travis, Staten Island:0\n",
      "( 212 / 306 ) Russian Resturants in New Dorp, Staten Island:0\n",
      "( 213 / 306 ) Russian Resturants in Oakwood, Staten Island:0\n",
      "( 214 / 306 ) Russian Resturants in Great Kills, Staten Island:0\n",
      "( 215 / 306 ) Russian Resturants in Eltingville, Staten Island:0\n",
      "( 216 / 306 ) Russian Resturants in Annadale, Staten Island:0\n",
      "( 217 / 306 ) Russian Resturants in Woodrow, Staten Island:0\n",
      "( 218 / 306 ) Russian Resturants in Tottenville, Staten Island:0\n",
      "( 219 / 306 ) Russian Resturants in Tompkinsville, Staten Island:0\n",
      "( 220 / 306 ) Russian Resturants in Silver Lake, Staten Island:0\n",
      "( 221 / 306 ) Russian Resturants in Sunnyside, Staten Island:0\n",
      "( 222 / 306 ) Russian Resturants in Ditmas Park, Brooklyn:0\n",
      "( 223 / 306 ) Russian Resturants in Wingate, Brooklyn:0\n",
      "( 224 / 306 ) Russian Resturants in Rugby, Brooklyn:0\n",
      "( 225 / 306 ) Russian Resturants in Park Hill, Staten Island:0\n",
      "( 226 / 306 ) Russian Resturants in Westerleigh, Staten Island:0\n",
      "( 227 / 306 ) Russian Resturants in Graniteville, Staten Island:0\n",
      "( 228 / 306 ) Russian Resturants in Arlington, Staten Island:0\n",
      "( 229 / 306 ) Russian Resturants in Arrochar, Staten Island:0\n",
      "( 230 / 306 ) Russian Resturants in Grasmere, Staten Island:0\n",
      "( 231 / 306 ) Russian Resturants in Old Town, Staten Island:0\n",
      "( 232 / 306 ) Russian Resturants in Dongan Hills, Staten Island:0\n",
      "( 233 / 306 ) Russian Resturants in Midland Beach, Staten Island:0\n",
      "( 234 / 306 ) Russian Resturants in Grant City, Staten Island:0\n",
      "( 235 / 306 ) Russian Resturants in New Dorp Beach, Staten Island:0\n",
      "( 236 / 306 ) Russian Resturants in Bay Terrace, Staten Island:0\n",
      "( 237 / 306 ) Russian Resturants in Huguenot, Staten Island:0\n",
      "( 238 / 306 ) Russian Resturants in Pleasant Plains, Staten Island:0\n",
      "( 239 / 306 ) Russian Resturants in Butler Manor, Staten Island:0\n",
      "( 240 / 306 ) Russian Resturants in Charleston, Staten Island:0\n",
      "( 241 / 306 ) Russian Resturants in Rossville, Staten Island:0\n",
      "( 242 / 306 ) Russian Resturants in Arden Heights, Staten Island:0\n",
      "( 243 / 306 ) Russian Resturants in Greenridge, Staten Island:0\n",
      "( 244 / 306 ) Russian Resturants in Heartland Village, Staten Island:0\n",
      "( 245 / 306 ) Russian Resturants in Chelsea, Staten Island:0\n",
      "( 246 / 306 ) Russian Resturants in Bloomfield, Staten Island:0\n",
      "( 247 / 306 ) Russian Resturants in Bulls Head, Staten Island:0\n",
      "( 248 / 306 ) Russian Resturants in Carnegie Hill, Manhattan:0\n",
      "( 249 / 306 ) Russian Resturants in Noho, Manhattan:0\n",
      "( 250 / 306 ) Russian Resturants in Civic Center, Manhattan:0\n",
      "( 251 / 306 ) Russian Resturants in Midtown South, Manhattan:0\n",
      "( 252 / 306 ) Russian Resturants in Richmond Town, Staten Island:0\n",
      "( 253 / 306 ) Russian Resturants in Shore Acres, Staten Island:0\n",
      "( 254 / 306 ) Russian Resturants in Clifton, Staten Island:0\n",
      "( 255 / 306 ) Russian Resturants in Concord, Staten Island:0\n",
      "( 256 / 306 ) Russian Resturants in Emerson Hill, Staten Island:0\n",
      "( 257 / 306 ) Russian Resturants in Randall Manor, Staten Island:0\n",
      "( 258 / 306 ) Russian Resturants in Howland Hook, Staten Island:0\n",
      "( 259 / 306 ) Russian Resturants in Elm Park, Staten Island:0\n",
      "( 260 / 306 ) Russian Resturants in Remsen Village, Brooklyn:0\n",
      "( 261 / 306 ) Russian Resturants in New Lots, Brooklyn:0\n",
      "( 262 / 306 ) Russian Resturants in Paerdegat Basin, Brooklyn:0\n",
      "( 263 / 306 ) Russian Resturants in Mill Basin, Brooklyn:0\n",
      "( 264 / 306 ) Russian Resturants in Jamaica Hills, Queens:0\n",
      "( 265 / 306 ) Russian Resturants in Utopia, Queens:0\n",
      "( 266 / 306 ) Russian Resturants in Pomonok, Queens:0\n",
      "( 267 / 306 ) Russian Resturants in Astoria Heights, Queens:0\n",
      "( 268 / 306 ) Russian Resturants in Claremont Village, Bronx:0\n",
      "( 269 / 306 ) Russian Resturants in Concourse Village, Bronx:0\n",
      "( 270 / 306 ) Russian Resturants in Mount Eden, Bronx:0\n",
      "( 271 / 306 ) Russian Resturants in Mount Hope, Bronx:0\n",
      "( 272 / 306 ) Russian Resturants in Sutton Place, Manhattan:0\n",
      "( 273 / 306 ) Russian Resturants in Hunters Point, Queens:0\n",
      "( 274 / 306 ) Russian Resturants in Turtle Bay, Manhattan:0\n",
      "( 275 / 306 ) Russian Resturants in Tudor City, Manhattan:0\n",
      "( 276 / 306 ) Russian Resturants in Stuyvesant Town, Manhattan:0\n",
      "( 277 / 306 ) Russian Resturants in Flatiron, Manhattan:1\n",
      "( 278 / 306 ) Russian Resturants in Sunnyside Gardens, Queens:0\n",
      "( 279 / 306 ) Russian Resturants in Blissville, Queens:0\n",
      "( 280 / 306 ) Russian Resturants in Fulton Ferry, Brooklyn:0\n",
      "( 281 / 306 ) Russian Resturants in Vinegar Hill, Brooklyn:0\n",
      "( 282 / 306 ) Russian Resturants in Weeksville, Brooklyn:0\n",
      "( 283 / 306 ) Russian Resturants in Broadway Junction, Brooklyn:0\n",
      "( 284 / 306 ) Russian Resturants in Dumbo, Brooklyn:0\n",
      "( 285 / 306 ) Russian Resturants in Manor Heights, Staten Island:0\n",
      "( 286 / 306 ) Russian Resturants in Willowbrook, Staten Island:0\n",
      "( 287 / 306 ) Russian Resturants in Sandy Ground, Staten Island:0\n",
      "( 288 / 306 ) Russian Resturants in Egbertville, Staten Island:0\n",
      "( 289 / 306 ) Russian Resturants in Roxbury, Queens:0\n",
      "( 290 / 306 ) Russian Resturants in Homecrest, Brooklyn:4\n",
      "( 291 / 306 ) Russian Resturants in Middle Village, Queens:0\n",
      "( 292 / 306 ) Russian Resturants in Prince's Bay, Staten Island:0\n",
      "( 293 / 306 ) Russian Resturants in Lighthouse Hill, Staten Island:0\n",
      "( 294 / 306 ) Russian Resturants in Richmond Valley, Staten Island:0\n",
      "( 295 / 306 ) Russian Resturants in Malba, Queens:0\n",
      "( 296 / 306 ) Russian Resturants in Highland Park, Brooklyn:0\n",
      "( 297 / 306 ) Russian Resturants in Madison, Brooklyn:0\n",
      "( 298 / 306 ) Russian Resturants in Bronxdale, Bronx:0\n",
      "( 299 / 306 ) Russian Resturants in Allerton, Bronx:0\n",
      "( 300 / 306 ) Russian Resturants in Kingsbridge Heights, Bronx:0\n",
      "( 301 / 306 ) Russian Resturants in Erasmus, Brooklyn:0\n",
      "( 302 / 306 ) Russian Resturants in Hudson Yards, Manhattan:0\n",
      "( 303 / 306 ) Russian Resturants in Hammels, Queens:0\n",
      "( 304 / 306 ) Russian Resturants in Bayswater, Queens:0\n",
      "( 305 / 306 ) Russian Resturants in Queensbridge, Queens:0\n",
      "( 306 / 306 ) Russian Resturants in Fox Hills, Staten Island:0\n"
     ]
    }
   ],
   "source": [
    "# prepare neighborhood list that contains indian resturants\n",
    "column_names=['Borough', 'Neighborhood', 'ID','Name']\n",
    "russian_rest_ny=pd.DataFrame(columns=column_names)\n",
    "count=1\n",
    "for row in new_york_data.values.tolist():\n",
    "    Borough, Neighborhood, Latitude, Longitude=row\n",
    "    venues = get_venues(Latitude,Longitude)\n",
    "    russian_resturants=venues[venues['Category']=='Russian Restaurant']   \n",
    "    print('(',count,'/',len(new_york_data),')','Russian Resturants in '+Neighborhood+', '+Borough+':'+str(len(russian_resturants)))\n",
    "    for resturant_detail in russian_resturants.values.tolist():\n",
    "        id, name , category=resturant_detail\n",
    "        russian_rest_ny = russian_rest_ny.append({'Borough': Borough,\n",
    "                                                'Neighborhood': Neighborhood, \n",
    "                                                'ID': id,\n",
    "                                                'Name' : name\n",
    "                                               }, ignore_index=True)\n",
    "    count+=1"
   ]
  },
  {
   "cell_type": "markdown",
   "metadata": {},
   "source": [
    "Now we have a list of all the Russian resturants in New York City! Let's study it."
   ]
  },
  {
   "cell_type": "code",
   "execution_count": 12,
   "metadata": {},
   "outputs": [
    {
     "data": {
      "text/html": [
       "<div>\n",
       "<style scoped>\n",
       "    .dataframe tbody tr th:only-of-type {\n",
       "        vertical-align: middle;\n",
       "    }\n",
       "\n",
       "    .dataframe tbody tr th {\n",
       "        vertical-align: top;\n",
       "    }\n",
       "\n",
       "    .dataframe thead th {\n",
       "        text-align: right;\n",
       "    }\n",
       "</style>\n",
       "<table border=\"1\" class=\"dataframe\">\n",
       "  <thead>\n",
       "    <tr style=\"text-align: right;\">\n",
       "      <th></th>\n",
       "      <th>Borough</th>\n",
       "      <th>Neighborhood</th>\n",
       "      <th>ID</th>\n",
       "      <th>Name</th>\n",
       "    </tr>\n",
       "  </thead>\n",
       "  <tbody>\n",
       "    <tr>\n",
       "      <th>0</th>\n",
       "      <td>Brooklyn</td>\n",
       "      <td>Gravesend</td>\n",
       "      <td>4a2937fcf964a52069951fe3</td>\n",
       "      <td>Stolovaya</td>\n",
       "    </tr>\n",
       "    <tr>\n",
       "      <th>1</th>\n",
       "      <td>Brooklyn</td>\n",
       "      <td>Brighton Beach</td>\n",
       "      <td>4ac69109f964a52017b520e3</td>\n",
       "      <td>Skovorodka</td>\n",
       "    </tr>\n",
       "    <tr>\n",
       "      <th>2</th>\n",
       "      <td>Brooklyn</td>\n",
       "      <td>Brighton Beach</td>\n",
       "      <td>4245f780f964a52070201fe3</td>\n",
       "      <td>Tatiana Restaurant</td>\n",
       "    </tr>\n",
       "    <tr>\n",
       "      <th>3</th>\n",
       "      <td>Brooklyn</td>\n",
       "      <td>Brighton Beach</td>\n",
       "      <td>4c1ea63763750f474c19ba67</td>\n",
       "      <td>Volna Café</td>\n",
       "    </tr>\n",
       "    <tr>\n",
       "      <th>4</th>\n",
       "      <td>Brooklyn</td>\n",
       "      <td>Sheepshead Bay</td>\n",
       "      <td>5a08f7e2d48ec1369706f57d</td>\n",
       "      <td>Bellarussian Xata</td>\n",
       "    </tr>\n",
       "  </tbody>\n",
       "</table>\n",
       "</div>"
      ],
      "text/plain": [
       "    Borough    Neighborhood                        ID                Name\n",
       "0  Brooklyn       Gravesend  4a2937fcf964a52069951fe3           Stolovaya\n",
       "1  Brooklyn  Brighton Beach  4ac69109f964a52017b520e3          Skovorodka\n",
       "2  Brooklyn  Brighton Beach  4245f780f964a52070201fe3  Tatiana Restaurant\n",
       "3  Brooklyn  Brighton Beach  4c1ea63763750f474c19ba67          Volna Café\n",
       "4  Brooklyn  Sheepshead Bay  5a08f7e2d48ec1369706f57d   Bellarussian Xata"
      ]
     },
     "execution_count": 12,
     "metadata": {},
     "output_type": "execute_result"
    }
   ],
   "source": [
    "russian_rest_ny.head()"
   ]
  },
  {
   "cell_type": "code",
   "execution_count": 13,
   "metadata": {},
   "outputs": [
    {
     "data": {
      "text/plain": [
       "(21, 4)"
      ]
     },
     "execution_count": 13,
     "metadata": {},
     "output_type": "execute_result"
    }
   ],
   "source": [
    "russian_rest_ny.shape"
   ]
  },
  {
   "cell_type": "markdown",
   "metadata": {},
   "source": [
    "***As you can see, there are 16 Russian Resturants in New York City.***"
   ]
  },
  {
   "cell_type": "markdown",
   "metadata": {},
   "source": [
    "Next, a BAR PLOT is built to show number of Russian Resturants for each Borough in New York City."
   ]
  },
  {
   "cell_type": "code",
   "execution_count": 14,
   "metadata": {},
   "outputs": [
    {
     "data": {
      "image/png": "[encoded data removed]",
      "text/plain": [
       "<Figure size 900x500 with 1 Axes>"
      ]
     },
     "metadata": {
      "needs_background": "light"
     },
     "output_type": "display_data"
    }
   ],
   "source": [
    "plt.figure(figsize=(9,5), dpi = 100)\n",
    "# title\n",
    "plt.title('Number of Russian Resturants for each Borough in New York City')\n",
    "#On x-axis\n",
    "plt.xlabel('Borough', fontsize = 15)\n",
    "#On y-axis\n",
    "plt.ylabel('No.of Russian Resturants', fontsize=15)\n",
    "#giving a bar plot\n",
    "russian_rest_ny.groupby('Borough')['ID'].count().plot(kind='bar')\n",
    "#legend\n",
    "plt.legend()\n",
    "#displays the plot\n",
    "plt.show()"
   ]
  },
  {
   "cell_type": "markdown",
   "metadata": {},
   "source": [
    "***As you can see from the above Bar Plot, most of the Russian restaurants in New York City are situated in Brooklyn***"
   ]
  },
  {
   "cell_type": "code",
   "execution_count": 15,
   "metadata": {},
   "outputs": [
    {
     "data": {
      "image/png": "[encoded data removed]",
      "text/plain": [
       "<Figure size 900x500 with 1 Axes>"
      ]
     },
     "metadata": {
      "needs_background": "light"
     },
     "output_type": "display_data"
    }
   ],
   "source": [
    "plt.figure(figsize=(9,5), dpi = 100)\n",
    "# title\n",
    "plt.title('Number of Russian Resturants for each Neighborhood in New York City')\n",
    "#On x-axis\n",
    "plt.xlabel('Neighborhood', fontsize = 15)\n",
    "#On y-axis\n",
    "plt.ylabel('No.of Russian Resturants', fontsize=15)\n",
    "#giving a bar plot\n",
    "russian_rest_ny.groupby('Neighborhood')['ID'].count().nlargest(5).plot(kind='bar')\n",
    "#legend\n",
    "plt.legend()\n",
    "#displays the plot\n",
    "plt.show()"
   ]
  },
  {
   "cell_type": "code",
   "execution_count": 17,
   "metadata": {},
   "outputs": [
    {
     "data": {
      "text/html": [
       "<div>\n",
       "<style scoped>\n",
       "    .dataframe tbody tr th:only-of-type {\n",
       "        vertical-align: middle;\n",
       "    }\n",
       "\n",
       "    .dataframe tbody tr th {\n",
       "        vertical-align: top;\n",
       "    }\n",
       "\n",
       "    .dataframe thead th {\n",
       "        text-align: right;\n",
       "    }\n",
       "</style>\n",
       "<table border=\"1\" class=\"dataframe\">\n",
       "  <thead>\n",
       "    <tr style=\"text-align: right;\">\n",
       "      <th></th>\n",
       "      <th>Borough</th>\n",
       "      <th>Neighborhood</th>\n",
       "      <th>ID</th>\n",
       "      <th>Name</th>\n",
       "    </tr>\n",
       "  </thead>\n",
       "  <tbody>\n",
       "    <tr>\n",
       "      <th>4</th>\n",
       "      <td>Brooklyn</td>\n",
       "      <td>Sheepshead Bay</td>\n",
       "      <td>5a08f7e2d48ec1369706f57d</td>\n",
       "      <td>Bellarussian Xata</td>\n",
       "    </tr>\n",
       "    <tr>\n",
       "      <th>5</th>\n",
       "      <td>Brooklyn</td>\n",
       "      <td>Sheepshead Bay</td>\n",
       "      <td>55d6885e498e41b9e7b8b5e8</td>\n",
       "      <td>Cafe Dushanbe</td>\n",
       "    </tr>\n",
       "    <tr>\n",
       "      <th>6</th>\n",
       "      <td>Brooklyn</td>\n",
       "      <td>Sheepshead Bay</td>\n",
       "      <td>5324ee02498e9a825bb4f689</td>\n",
       "      <td>La Vue Restaurant</td>\n",
       "    </tr>\n",
       "    <tr>\n",
       "      <th>7</th>\n",
       "      <td>Brooklyn</td>\n",
       "      <td>Sheepshead Bay</td>\n",
       "      <td>4b53cec1f964a520f9ab27e3</td>\n",
       "      <td>Vanka Vstanka</td>\n",
       "    </tr>\n",
       "    <tr>\n",
       "      <th>8</th>\n",
       "      <td>Brooklyn</td>\n",
       "      <td>Sheepshead Bay</td>\n",
       "      <td>4b2ecbf5f964a520cee624e3</td>\n",
       "      <td>Passage</td>\n",
       "    </tr>\n",
       "  </tbody>\n",
       "</table>\n",
       "</div>"
      ],
      "text/plain": [
       "    Borough    Neighborhood                        ID               Name\n",
       "4  Brooklyn  Sheepshead Bay  5a08f7e2d48ec1369706f57d  Bellarussian Xata\n",
       "5  Brooklyn  Sheepshead Bay  55d6885e498e41b9e7b8b5e8      Cafe Dushanbe\n",
       "6  Brooklyn  Sheepshead Bay  5324ee02498e9a825bb4f689  La Vue Restaurant\n",
       "7  Brooklyn  Sheepshead Bay  4b53cec1f964a520f9ab27e3      Vanka Vstanka\n",
       "8  Brooklyn  Sheepshead Bay  4b2ecbf5f964a520cee624e3            Passage"
      ]
     },
     "execution_count": 17,
     "metadata": {},
     "output_type": "execute_result"
    }
   ],
   "source": [
    "russian_rest_ny[russian_rest_ny['Neighborhood']=='Sheepshead Bay']"
   ]
  },
  {
   "cell_type": "markdown",
   "metadata": {},
   "source": [
    "***We can see that Sheepshead Bay in Brooklyn has the highest number of Russian Resturants with a total count of 5***"
   ]
  },
  {
   "cell_type": "markdown",
   "metadata": {},
   "source": [
    "Now we will get the ranking of each resturant for further analysis"
   ]
  },
  {
   "cell_type": "code",
   "execution_count": 30,
   "metadata": {},
   "outputs": [
    {
     "name": "stdout",
     "output_type": "stream",
     "text": [
      "                         ID       Name  Likes  Rating  Tips\n",
      "0  4a2937fcf964a52069951fe3  Stolovaya     40     8.0    27\n",
      "( 1 / 21 ) processed\n",
      "                         ID        Name  Likes  Rating  Tips\n",
      "0  4ac69109f964a52017b520e3  Skovorodka     95     7.9    48\n",
      "( 2 / 21 ) processed\n",
      "                         ID                Name  Likes  Rating  Tips\n",
      "0  4245f780f964a52070201fe3  Tatiana Restaurant    161     7.0    67\n",
      "( 3 / 21 ) processed\n",
      "                         ID        Name  Likes  Rating  Tips\n",
      "0  4c1ea63763750f474c19ba67  Volna Café     34     6.0    21\n",
      "( 4 / 21 ) processed\n",
      "                         ID               Name  Likes  Rating  Tips\n",
      "0  5a08f7e2d48ec1369706f57d  Bellarussian Xata     24     8.5     7\n",
      "( 5 / 21 ) processed\n",
      "                         ID           Name  Likes  Rating  Tips\n",
      "0  55d6885e498e41b9e7b8b5e8  Cafe Dushanbe     13     7.3     4\n",
      "( 6 / 21 ) processed\n",
      "                         ID               Name  Likes  Rating  Tips\n",
      "0  5324ee02498e9a825bb4f689  La Vue Restaurant     23     7.1     3\n",
      "( 7 / 21 ) processed\n",
      "                         ID           Name  Likes  Rating  Tips\n",
      "0  4b53cec1f964a520f9ab27e3  Vanka Vstanka      5     6.3     4\n",
      "( 8 / 21 ) processed\n",
      "                         ID     Name  Likes  Rating  Tips\n",
      "0  4b2ecbf5f964a520cee624e3  Passage      8     6.2     5\n",
      "( 9 / 21 ) processed\n",
      "                         ID          Name  Likes  Rating  Tips\n",
      "0  531d0f0b11d2ad3e0970136a  Village Cafe     17     7.6     7\n",
      "( 10 / 21 ) processed\n",
      "                         ID           Name  Likes  Rating  Tips\n",
      "0  55d6885e498e41b9e7b8b5e8  Cafe Dushanbe     13     7.3     4\n",
      "( 11 / 21 ) processed\n",
      "                         ID     Name  Likes  Rating  Tips\n",
      "0  4b2ecbf5f964a520cee624e3  Passage      8     6.2     5\n",
      "( 12 / 21 ) processed\n",
      "                         ID               Name  Likes  Rating  Tips\n",
      "0  5324ee02498e9a825bb4f689  La Vue Restaurant     23     7.1     3\n",
      "( 13 / 21 ) processed\n",
      "                         ID           Name  Likes  Rating  Tips\n",
      "0  4b53cec1f964a520f9ab27e3  Vanka Vstanka      5     6.3     4\n",
      "( 14 / 21 ) processed\n",
      "                         ID          Name  Likes  Rating  Tips\n",
      "0  531d0f0b11d2ad3e0970136a  Village Cafe     17     7.6     7\n",
      "( 15 / 21 ) processed\n",
      "                         ID        Name  Likes  Rating  Tips\n",
      "0  4a777018f964a5207be41fe3  Mari Vanna    548     8.9   193\n",
      "( 16 / 21 ) processed\n",
      "                         ID        Name  Likes  Rating  Tips\n",
      "0  4a777018f964a5207be41fe3  Mari Vanna    548     8.9   193\n",
      "( 17 / 21 ) processed\n",
      "                         ID       Name  Likes  Rating  Tips\n",
      "0  4a2937fcf964a52069951fe3  Stolovaya     40     8.0    27\n",
      "( 18 / 21 ) processed\n",
      "                         ID       Name  Likes  Rating  Tips\n",
      "0  45a5267bf964a520fc401fe3  Pirosmani      9     7.8     8\n",
      "( 19 / 21 ) processed\n",
      "                         ID      Name  Likes  Rating  Tips\n",
      "0  52b4e4a5498e11c54d9fdb6d  Padishah      3     6.2     3\n",
      "( 20 / 21 ) processed\n",
      "                         ID           Name  Likes  Rating  Tips\n",
      "0  5216b79a11d2f52ef2ee2e24  The Art House      6     5.9     4\n",
      "( 21 / 21 ) processed\n"
     ]
    }
   ],
   "source": [
    "# prepare neighborhood list that contains Russian resturants\n",
    "column_names=['Borough', 'Neighborhood', 'ID','Name','Likes','Rating','Tips']\n",
    "russian_rest_stats_ny=pd.DataFrame(columns=column_names)\n",
    "count=1\n",
    "\n",
    "\n",
    "for row in russian_rest_ny.values.tolist():\n",
    "    Borough,Neighborhood,ID,Name=row\n",
    "    try:\n",
    "        venue_details=get_venue_details(ID)\n",
    "        print(venue_details)\n",
    "        id,name,likes,rating,tips=venue_details.values.tolist()[0]\n",
    "    except IndexError:\n",
    "        print('No data available for id=',ID)\n",
    "        # we will assign 0 value for these resturants as they may have been \n",
    "        #recently opened or details does not exist in FourSquare Database\n",
    "        id,name,likes,rating,tips=[0]*5\n",
    "    print('(',count,'/',len(russian_rest_ny),')','processed')\n",
    "    russian_rest_stats_ny = russian_rest_stats_ny.append({'Borough': Borough,\n",
    "                                                'Neighborhood': Neighborhood, \n",
    "                                                'ID': id,\n",
    "                                                'Name' : name,\n",
    "                                                'Likes' : likes,\n",
    "                                                'Rating' : rating,\n",
    "                                                'Tips' : tips\n",
    "                                               }, ignore_index=True)\n",
    "    count+=1"
   ]
  },
  {
   "cell_type": "code",
   "execution_count": 31,
   "metadata": {},
   "outputs": [
    {
     "data": {
      "text/html": [
       "<div>\n",
       "<style scoped>\n",
       "    .dataframe tbody tr th:only-of-type {\n",
       "        vertical-align: middle;\n",
       "    }\n",
       "\n",
       "    .dataframe tbody tr th {\n",
       "        vertical-align: top;\n",
       "    }\n",
       "\n",
       "    .dataframe thead th {\n",
       "        text-align: right;\n",
       "    }\n",
       "</style>\n",
       "<table border=\"1\" class=\"dataframe\">\n",
       "  <thead>\n",
       "    <tr style=\"text-align: right;\">\n",
       "      <th></th>\n",
       "      <th>Borough</th>\n",
       "      <th>Neighborhood</th>\n",
       "      <th>ID</th>\n",
       "      <th>Name</th>\n",
       "      <th>Likes</th>\n",
       "      <th>Rating</th>\n",
       "      <th>Tips</th>\n",
       "    </tr>\n",
       "  </thead>\n",
       "  <tbody>\n",
       "    <tr>\n",
       "      <th>0</th>\n",
       "      <td>Brooklyn</td>\n",
       "      <td>Gravesend</td>\n",
       "      <td>4a2937fcf964a52069951fe3</td>\n",
       "      <td>Stolovaya</td>\n",
       "      <td>40</td>\n",
       "      <td>8.0</td>\n",
       "      <td>27</td>\n",
       "    </tr>\n",
       "    <tr>\n",
       "      <th>1</th>\n",
       "      <td>Brooklyn</td>\n",
       "      <td>Brighton Beach</td>\n",
       "      <td>4ac69109f964a52017b520e3</td>\n",
       "      <td>Skovorodka</td>\n",
       "      <td>95</td>\n",
       "      <td>7.9</td>\n",
       "      <td>48</td>\n",
       "    </tr>\n",
       "    <tr>\n",
       "      <th>2</th>\n",
       "      <td>Brooklyn</td>\n",
       "      <td>Brighton Beach</td>\n",
       "      <td>4245f780f964a52070201fe3</td>\n",
       "      <td>Tatiana Restaurant</td>\n",
       "      <td>161</td>\n",
       "      <td>7.0</td>\n",
       "      <td>67</td>\n",
       "    </tr>\n",
       "    <tr>\n",
       "      <th>3</th>\n",
       "      <td>Brooklyn</td>\n",
       "      <td>Brighton Beach</td>\n",
       "      <td>4c1ea63763750f474c19ba67</td>\n",
       "      <td>Volna Café</td>\n",
       "      <td>34</td>\n",
       "      <td>6.0</td>\n",
       "      <td>21</td>\n",
       "    </tr>\n",
       "    <tr>\n",
       "      <th>4</th>\n",
       "      <td>Brooklyn</td>\n",
       "      <td>Sheepshead Bay</td>\n",
       "      <td>5a08f7e2d48ec1369706f57d</td>\n",
       "      <td>Bellarussian Xata</td>\n",
       "      <td>24</td>\n",
       "      <td>8.5</td>\n",
       "      <td>7</td>\n",
       "    </tr>\n",
       "  </tbody>\n",
       "</table>\n",
       "</div>"
      ],
      "text/plain": [
       "    Borough    Neighborhood                        ID                Name  \\\n",
       "0  Brooklyn       Gravesend  4a2937fcf964a52069951fe3           Stolovaya   \n",
       "1  Brooklyn  Brighton Beach  4ac69109f964a52017b520e3          Skovorodka   \n",
       "2  Brooklyn  Brighton Beach  4245f780f964a52070201fe3  Tatiana Restaurant   \n",
       "3  Brooklyn  Brighton Beach  4c1ea63763750f474c19ba67          Volna Café   \n",
       "4  Brooklyn  Sheepshead Bay  5a08f7e2d48ec1369706f57d   Bellarussian Xata   \n",
       "\n",
       "  Likes  Rating Tips  \n",
       "0    40     8.0   27  \n",
       "1    95     7.9   48  \n",
       "2   161     7.0   67  \n",
       "3    34     6.0   21  \n",
       "4    24     8.5    7  "
      ]
     },
     "execution_count": 31,
     "metadata": {},
     "output_type": "execute_result"
    }
   ],
   "source": [
    "russian_rest_stats_ny.head()"
   ]
  },
  {
   "cell_type": "code",
   "execution_count": 32,
   "metadata": {},
   "outputs": [
    {
     "data": {
      "text/plain": [
       "(21, 7)"
      ]
     },
     "execution_count": 32,
     "metadata": {},
     "output_type": "execute_result"
    }
   ],
   "source": [
    "russian_rest_stats_ny.shape"
   ]
  },
  {
   "cell_type": "code",
   "execution_count": 33,
   "metadata": {},
   "outputs": [
    {
     "data": {
      "text/plain": [
       "(21, 4)"
      ]
     },
     "execution_count": 33,
     "metadata": {},
     "output_type": "execute_result"
    }
   ],
   "source": [
    "russian_rest_ny.shape"
   ]
  },
  {
   "cell_type": "markdown",
   "metadata": {},
   "source": [
    "Now that we have data for all resturants. Then lets save this data to a csv-file. As the number of calls to get details for venue are premium call and have limit of 950 per day, we will refer to saved data sheet csv if required."
   ]
  },
  {
   "cell_type": "code",
   "execution_count": 34,
   "metadata": {},
   "outputs": [],
   "source": [
    "russian_rest_stats_ny.to_csv('russian_rest_stats_ny.csv', index=False)"
   ]
  },
  {
   "cell_type": "markdown",
   "metadata": {},
   "source": [
    "Verification of the CVS-file:"
   ]
  },
  {
   "cell_type": "code",
   "execution_count": 35,
   "metadata": {},
   "outputs": [],
   "source": [
    "russian_rest_stats_ny_csv=pd.read_csv('russian_rest_stats_ny.csv')"
   ]
  },
  {
   "cell_type": "code",
   "execution_count": 36,
   "metadata": {},
   "outputs": [
    {
     "data": {
      "text/plain": [
       "(21, 7)"
      ]
     },
     "execution_count": 36,
     "metadata": {},
     "output_type": "execute_result"
    }
   ],
   "source": [
    "russian_rest_stats_ny_csv.shape"
   ]
  },
  {
   "cell_type": "code",
   "execution_count": 37,
   "metadata": {},
   "outputs": [
    {
     "data": {
      "text/html": [
       "<div>\n",
       "<style scoped>\n",
       "    .dataframe tbody tr th:only-of-type {\n",
       "        vertical-align: middle;\n",
       "    }\n",
       "\n",
       "    .dataframe tbody tr th {\n",
       "        vertical-align: top;\n",
       "    }\n",
       "\n",
       "    .dataframe thead th {\n",
       "        text-align: right;\n",
       "    }\n",
       "</style>\n",
       "<table border=\"1\" class=\"dataframe\">\n",
       "  <thead>\n",
       "    <tr style=\"text-align: right;\">\n",
       "      <th></th>\n",
       "      <th>Borough</th>\n",
       "      <th>Neighborhood</th>\n",
       "      <th>ID</th>\n",
       "      <th>Name</th>\n",
       "      <th>Likes</th>\n",
       "      <th>Rating</th>\n",
       "      <th>Tips</th>\n",
       "    </tr>\n",
       "  </thead>\n",
       "  <tbody>\n",
       "    <tr>\n",
       "      <th>0</th>\n",
       "      <td>Brooklyn</td>\n",
       "      <td>Gravesend</td>\n",
       "      <td>4a2937fcf964a52069951fe3</td>\n",
       "      <td>Stolovaya</td>\n",
       "      <td>40</td>\n",
       "      <td>8.0</td>\n",
       "      <td>27</td>\n",
       "    </tr>\n",
       "    <tr>\n",
       "      <th>1</th>\n",
       "      <td>Brooklyn</td>\n",
       "      <td>Brighton Beach</td>\n",
       "      <td>4ac69109f964a52017b520e3</td>\n",
       "      <td>Skovorodka</td>\n",
       "      <td>95</td>\n",
       "      <td>7.9</td>\n",
       "      <td>48</td>\n",
       "    </tr>\n",
       "    <tr>\n",
       "      <th>2</th>\n",
       "      <td>Brooklyn</td>\n",
       "      <td>Brighton Beach</td>\n",
       "      <td>4245f780f964a52070201fe3</td>\n",
       "      <td>Tatiana Restaurant</td>\n",
       "      <td>161</td>\n",
       "      <td>7.0</td>\n",
       "      <td>67</td>\n",
       "    </tr>\n",
       "    <tr>\n",
       "      <th>3</th>\n",
       "      <td>Brooklyn</td>\n",
       "      <td>Brighton Beach</td>\n",
       "      <td>4c1ea63763750f474c19ba67</td>\n",
       "      <td>Volna Café</td>\n",
       "      <td>34</td>\n",
       "      <td>6.0</td>\n",
       "      <td>21</td>\n",
       "    </tr>\n",
       "    <tr>\n",
       "      <th>4</th>\n",
       "      <td>Brooklyn</td>\n",
       "      <td>Sheepshead Bay</td>\n",
       "      <td>5a08f7e2d48ec1369706f57d</td>\n",
       "      <td>Bellarussian Xata</td>\n",
       "      <td>24</td>\n",
       "      <td>8.5</td>\n",
       "      <td>7</td>\n",
       "    </tr>\n",
       "  </tbody>\n",
       "</table>\n",
       "</div>"
      ],
      "text/plain": [
       "    Borough    Neighborhood                        ID                Name  \\\n",
       "0  Brooklyn       Gravesend  4a2937fcf964a52069951fe3           Stolovaya   \n",
       "1  Brooklyn  Brighton Beach  4ac69109f964a52017b520e3          Skovorodka   \n",
       "2  Brooklyn  Brighton Beach  4245f780f964a52070201fe3  Tatiana Restaurant   \n",
       "3  Brooklyn  Brighton Beach  4c1ea63763750f474c19ba67          Volna Café   \n",
       "4  Brooklyn  Sheepshead Bay  5a08f7e2d48ec1369706f57d   Bellarussian Xata   \n",
       "\n",
       "   Likes  Rating  Tips  \n",
       "0     40     8.0    27  \n",
       "1     95     7.9    48  \n",
       "2    161     7.0    67  \n",
       "3     34     6.0    21  \n",
       "4     24     8.5     7  "
      ]
     },
     "execution_count": 37,
     "metadata": {},
     "output_type": "execute_result"
    }
   ],
   "source": [
    "russian_rest_stats_ny_csv.head()"
   ]
  },
  {
   "cell_type": "code",
   "execution_count": 38,
   "metadata": {},
   "outputs": [
    {
     "name": "stdout",
     "output_type": "stream",
     "text": [
      "<class 'pandas.core.frame.DataFrame'>\n",
      "RangeIndex: 21 entries, 0 to 20\n",
      "Data columns (total 7 columns):\n",
      " #   Column        Non-Null Count  Dtype  \n",
      "---  ------        --------------  -----  \n",
      " 0   Borough       21 non-null     object \n",
      " 1   Neighborhood  21 non-null     object \n",
      " 2   ID            21 non-null     object \n",
      " 3   Name          21 non-null     object \n",
      " 4   Likes         21 non-null     object \n",
      " 5   Rating        21 non-null     float64\n",
      " 6   Tips          21 non-null     object \n",
      "dtypes: float64(1), object(6)\n",
      "memory usage: 1.3+ KB\n"
     ]
    }
   ],
   "source": [
    "russian_rest_stats_ny.info()"
   ]
  },
  {
   "cell_type": "markdown",
   "metadata": {},
   "source": [
    "The Data type of 'Likes' and 'Tips' are of type 'String'. we will convert them into type 'Float' for further analysis."
   ]
  },
  {
   "cell_type": "code",
   "execution_count": 39,
   "metadata": {},
   "outputs": [],
   "source": [
    "russian_rest_stats_ny['Likes']=russian_rest_stats_ny['Likes'].astype('float64')\n",
    "russian_rest_stats_ny['Tips']=russian_rest_stats_ny['Tips'].astype('float64')"
   ]
  },
  {
   "cell_type": "code",
   "execution_count": 40,
   "metadata": {},
   "outputs": [
    {
     "name": "stdout",
     "output_type": "stream",
     "text": [
      "<class 'pandas.core.frame.DataFrame'>\n",
      "RangeIndex: 21 entries, 0 to 20\n",
      "Data columns (total 7 columns):\n",
      " #   Column        Non-Null Count  Dtype  \n",
      "---  ------        --------------  -----  \n",
      " 0   Borough       21 non-null     object \n",
      " 1   Neighborhood  21 non-null     object \n",
      " 2   ID            21 non-null     object \n",
      " 3   Name          21 non-null     object \n",
      " 4   Likes         21 non-null     float64\n",
      " 5   Rating        21 non-null     float64\n",
      " 6   Tips          21 non-null     float64\n",
      "dtypes: float64(3), object(4)\n",
      "memory usage: 1.3+ KB\n"
     ]
    }
   ],
   "source": [
    "russian_rest_stats_ny.info()\n"
   ]
  },
  {
   "cell_type": "markdown",
   "metadata": {},
   "source": [
    "Now we are able to find Russian restuarants with Maximum Likes, Maximum Ratings and Maximum Tips."
   ]
  },
  {
   "cell_type": "code",
   "execution_count": 41,
   "metadata": {},
   "outputs": [
    {
     "data": {
      "text/plain": [
       "Borough                        Manhattan\n",
       "Neighborhood                    Gramercy\n",
       "ID              4a777018f964a5207be41fe3\n",
       "Name                          Mari Vanna\n",
       "Likes                                548\n",
       "Rating                               8.9\n",
       "Tips                                 193\n",
       "Name: 15, dtype: object"
      ]
     },
     "execution_count": 41,
     "metadata": {},
     "output_type": "execute_result"
    }
   ],
   "source": [
    "# Resturant with maximum Likes\n",
    "russian_rest_stats_ny.iloc[russian_rest_stats_ny['Likes'].idxmax()]"
   ]
  },
  {
   "cell_type": "code",
   "execution_count": 42,
   "metadata": {},
   "outputs": [
    {
     "data": {
      "text/plain": [
       "Borough                        Manhattan\n",
       "Neighborhood                    Gramercy\n",
       "ID              4a777018f964a5207be41fe3\n",
       "Name                          Mari Vanna\n",
       "Likes                                548\n",
       "Rating                               8.9\n",
       "Tips                                 193\n",
       "Name: 15, dtype: object"
      ]
     },
     "execution_count": 42,
     "metadata": {},
     "output_type": "execute_result"
    }
   ],
   "source": [
    "# Resturant with maximum Rating\n",
    "russian_rest_stats_ny.iloc[russian_rest_stats_ny['Rating'].idxmax()]"
   ]
  },
  {
   "cell_type": "code",
   "execution_count": 43,
   "metadata": {},
   "outputs": [
    {
     "data": {
      "text/plain": [
       "Borough                        Manhattan\n",
       "Neighborhood                    Gramercy\n",
       "ID              4a777018f964a5207be41fe3\n",
       "Name                          Mari Vanna\n",
       "Likes                                548\n",
       "Rating                               8.9\n",
       "Tips                                 193\n",
       "Name: 15, dtype: object"
      ]
     },
     "execution_count": 43,
     "metadata": {},
     "output_type": "execute_result"
    }
   ],
   "source": [
    "# Resturant with maximum Tips\n",
    "russian_rest_stats_ny.iloc[russian_rest_stats_ny['Tips'].idxmax()]"
   ]
  },
  {
   "cell_type": "markdown",
   "metadata": {},
   "source": [
    "As you can see, the best Russian restaurant in New York City is **'Mari Vanna'**"
   ]
  },
  {
   "cell_type": "markdown",
   "metadata": {},
   "source": [
    "Next lets visualize neighborhood with maximum average rating of resturants:"
   ]
  },
  {
   "cell_type": "code",
   "execution_count": 44,
   "metadata": {},
   "outputs": [],
   "source": [
    "ny_neighborhood_stats=russian_rest_stats_ny.groupby('Neighborhood',as_index=False).mean()[['Neighborhood','Rating']]\n",
    "ny_neighborhood_stats.columns=['Neighborhood','Average Rating']"
   ]
  },
  {
   "cell_type": "code",
   "execution_count": 45,
   "metadata": {},
   "outputs": [
    {
     "data": {
      "text/html": [
       "<div>\n",
       "<style scoped>\n",
       "    .dataframe tbody tr th:only-of-type {\n",
       "        vertical-align: middle;\n",
       "    }\n",
       "\n",
       "    .dataframe tbody tr th {\n",
       "        vertical-align: top;\n",
       "    }\n",
       "\n",
       "    .dataframe thead th {\n",
       "        text-align: right;\n",
       "    }\n",
       "</style>\n",
       "<table border=\"1\" class=\"dataframe\">\n",
       "  <thead>\n",
       "    <tr style=\"text-align: right;\">\n",
       "      <th></th>\n",
       "      <th>Neighborhood</th>\n",
       "      <th>Average Rating</th>\n",
       "    </tr>\n",
       "  </thead>\n",
       "  <tbody>\n",
       "    <tr>\n",
       "      <th>1</th>\n",
       "      <td>Flatiron</td>\n",
       "      <td>8.900000</td>\n",
       "    </tr>\n",
       "    <tr>\n",
       "      <th>3</th>\n",
       "      <td>Gramercy</td>\n",
       "      <td>8.900000</td>\n",
       "    </tr>\n",
       "    <tr>\n",
       "      <th>4</th>\n",
       "      <td>Gravesend</td>\n",
       "      <td>8.000000</td>\n",
       "    </tr>\n",
       "    <tr>\n",
       "      <th>7</th>\n",
       "      <td>Manhattan Terrace</td>\n",
       "      <td>7.600000</td>\n",
       "    </tr>\n",
       "    <tr>\n",
       "      <th>8</th>\n",
       "      <td>Ocean Parkway</td>\n",
       "      <td>7.600000</td>\n",
       "    </tr>\n",
       "    <tr>\n",
       "      <th>9</th>\n",
       "      <td>Sheepshead Bay</td>\n",
       "      <td>7.080000</td>\n",
       "    </tr>\n",
       "    <tr>\n",
       "      <th>5</th>\n",
       "      <td>Homecrest</td>\n",
       "      <td>6.975000</td>\n",
       "    </tr>\n",
       "    <tr>\n",
       "      <th>0</th>\n",
       "      <td>Brighton Beach</td>\n",
       "      <td>6.966667</td>\n",
       "    </tr>\n",
       "    <tr>\n",
       "      <th>6</th>\n",
       "      <td>Manhattan Beach</td>\n",
       "      <td>6.750000</td>\n",
       "    </tr>\n",
       "    <tr>\n",
       "      <th>2</th>\n",
       "      <td>Gerritsen Beach</td>\n",
       "      <td>6.700000</td>\n",
       "    </tr>\n",
       "  </tbody>\n",
       "</table>\n",
       "</div>"
      ],
      "text/plain": [
       "        Neighborhood  Average Rating\n",
       "1           Flatiron        8.900000\n",
       "3           Gramercy        8.900000\n",
       "4          Gravesend        8.000000\n",
       "7  Manhattan Terrace        7.600000\n",
       "8      Ocean Parkway        7.600000\n",
       "9     Sheepshead Bay        7.080000\n",
       "5          Homecrest        6.975000\n",
       "0     Brighton Beach        6.966667\n",
       "6    Manhattan Beach        6.750000\n",
       "2    Gerritsen Beach        6.700000"
      ]
     },
     "execution_count": 45,
     "metadata": {},
     "output_type": "execute_result"
    }
   ],
   "source": [
    "ny_neighborhood_stats.sort_values(['Average Rating'],ascending=False).head(10)"
   ]
  },
  {
   "cell_type": "markdown",
   "metadata": {},
   "source": [
    "Above are the top neighborhoods with top average rating of Russian resturants."
   ]
  },
  {
   "cell_type": "markdown",
   "metadata": {},
   "source": [
    "Similarly we will find the average rating of Russian Resturants for each Borough."
   ]
  },
  {
   "cell_type": "code",
   "execution_count": 46,
   "metadata": {},
   "outputs": [],
   "source": [
    "ny_borough_stats=russian_rest_stats_ny.groupby('Borough',as_index=False).mean()[['Borough','Rating']]\n",
    "ny_borough_stats.columns=['Borough','Average Rating']"
   ]
  },
  {
   "cell_type": "code",
   "execution_count": 47,
   "metadata": {},
   "outputs": [
    {
     "data": {
      "text/html": [
       "<div>\n",
       "<style scoped>\n",
       "    .dataframe tbody tr th:only-of-type {\n",
       "        vertical-align: middle;\n",
       "    }\n",
       "\n",
       "    .dataframe tbody tr th {\n",
       "        vertical-align: top;\n",
       "    }\n",
       "\n",
       "    .dataframe thead th {\n",
       "        text-align: right;\n",
       "    }\n",
       "</style>\n",
       "<table border=\"1\" class=\"dataframe\">\n",
       "  <thead>\n",
       "    <tr style=\"text-align: right;\">\n",
       "      <th></th>\n",
       "      <th>Borough</th>\n",
       "      <th>Average Rating</th>\n",
       "    </tr>\n",
       "  </thead>\n",
       "  <tbody>\n",
       "    <tr>\n",
       "      <th>1</th>\n",
       "      <td>Manhattan</td>\n",
       "      <td>8.900000</td>\n",
       "    </tr>\n",
       "    <tr>\n",
       "      <th>0</th>\n",
       "      <td>Brooklyn</td>\n",
       "      <td>7.068421</td>\n",
       "    </tr>\n",
       "  </tbody>\n",
       "</table>\n",
       "</div>"
      ],
      "text/plain": [
       "     Borough  Average Rating\n",
       "1  Manhattan        8.900000\n",
       "0   Brooklyn        7.068421"
      ]
     },
     "execution_count": 47,
     "metadata": {},
     "output_type": "execute_result"
    }
   ],
   "source": [
    "ny_borough_stats.sort_values(['Average Rating'],ascending=False).head()"
   ]
  },
  {
   "cell_type": "markdown",
   "metadata": {},
   "source": [
    "Visualization:"
   ]
  },
  {
   "cell_type": "code",
   "execution_count": 49,
   "metadata": {},
   "outputs": [
    {
     "data": {
      "image/png": "[encoded data removed]",
      "text/plain": [
       "<Figure size 900x500 with 1 Axes>"
      ]
     },
     "metadata": {
      "needs_background": "light"
     },
     "output_type": "display_data"
    }
   ],
   "source": [
    "plt.figure(figsize=(9,5), dpi = 100)\n",
    "# title\n",
    "plt.title('Average rating of Russian Resturants for each Borough')\n",
    "#On x-axis\n",
    "plt.xlabel('Borough', fontsize = 15)\n",
    "#On y-axis\n",
    "plt.ylabel('Average Rating', fontsize=15)\n",
    "#giving a bar plot\n",
    "russian_rest_stats_ny.groupby('Borough').mean()['Rating'].plot(kind='bar')\n",
    "#legend\n",
    "plt.legend()\n",
    "#displays the plot\n",
    "plt.show()"
   ]
  },
  {
   "cell_type": "markdown",
   "metadata": {},
   "source": [
    "This statistics misleads us because there is only two Russian restaurants in Manhattan (see the corresponding  BAR-plot above)."
   ]
  },
  {
   "cell_type": "markdown",
   "metadata": {},
   "source": [
    "Next we consider all the neighborhoods with average rating greater or equal 6.5 to visualize on map."
   ]
  },
  {
   "cell_type": "code",
   "execution_count": 52,
   "metadata": {},
   "outputs": [],
   "source": [
    "ny_neighborhood_stats=ny_neighborhood_stats[ny_neighborhood_stats['Average Rating']>=7.5]"
   ]
  },
  {
   "cell_type": "code",
   "execution_count": 53,
   "metadata": {},
   "outputs": [
    {
     "data": {
      "text/html": [
       "<div>\n",
       "<style scoped>\n",
       "    .dataframe tbody tr th:only-of-type {\n",
       "        vertical-align: middle;\n",
       "    }\n",
       "\n",
       "    .dataframe tbody tr th {\n",
       "        vertical-align: top;\n",
       "    }\n",
       "\n",
       "    .dataframe thead th {\n",
       "        text-align: right;\n",
       "    }\n",
       "</style>\n",
       "<table border=\"1\" class=\"dataframe\">\n",
       "  <thead>\n",
       "    <tr style=\"text-align: right;\">\n",
       "      <th></th>\n",
       "      <th>Neighborhood</th>\n",
       "      <th>Average Rating</th>\n",
       "    </tr>\n",
       "  </thead>\n",
       "  <tbody>\n",
       "    <tr>\n",
       "      <th>1</th>\n",
       "      <td>Flatiron</td>\n",
       "      <td>8.9</td>\n",
       "    </tr>\n",
       "    <tr>\n",
       "      <th>3</th>\n",
       "      <td>Gramercy</td>\n",
       "      <td>8.9</td>\n",
       "    </tr>\n",
       "    <tr>\n",
       "      <th>4</th>\n",
       "      <td>Gravesend</td>\n",
       "      <td>8.0</td>\n",
       "    </tr>\n",
       "    <tr>\n",
       "      <th>7</th>\n",
       "      <td>Manhattan Terrace</td>\n",
       "      <td>7.6</td>\n",
       "    </tr>\n",
       "    <tr>\n",
       "      <th>8</th>\n",
       "      <td>Ocean Parkway</td>\n",
       "      <td>7.6</td>\n",
       "    </tr>\n",
       "  </tbody>\n",
       "</table>\n",
       "</div>"
      ],
      "text/plain": [
       "        Neighborhood  Average Rating\n",
       "1           Flatiron             8.9\n",
       "3           Gramercy             8.9\n",
       "4          Gravesend             8.0\n",
       "7  Manhattan Terrace             7.6\n",
       "8      Ocean Parkway             7.6"
      ]
     },
     "execution_count": 53,
     "metadata": {},
     "output_type": "execute_result"
    }
   ],
   "source": [
    "ny_neighborhood_stats"
   ]
  },
  {
   "cell_type": "markdown",
   "metadata": {},
   "source": [
    "This dataset is combined into original New York data to get lonitude and latitude."
   ]
  },
  {
   "cell_type": "code",
   "execution_count": 54,
   "metadata": {},
   "outputs": [],
   "source": [
    "ny_neighborhood_stats=pd.merge(ny_neighborhood_stats,new_york_data, on='Neighborhood')"
   ]
  },
  {
   "cell_type": "code",
   "execution_count": 55,
   "metadata": {},
   "outputs": [],
   "source": [
    "ny_neighborhood_stats=ny_neighborhood_stats[['Borough','Neighborhood','Latitude','Longitude','Average Rating']]"
   ]
  },
  {
   "cell_type": "code",
   "execution_count": 56,
   "metadata": {},
   "outputs": [
    {
     "data": {
      "text/html": [
       "<div>\n",
       "<style scoped>\n",
       "    .dataframe tbody tr th:only-of-type {\n",
       "        vertical-align: middle;\n",
       "    }\n",
       "\n",
       "    .dataframe tbody tr th {\n",
       "        vertical-align: top;\n",
       "    }\n",
       "\n",
       "    .dataframe thead th {\n",
       "        text-align: right;\n",
       "    }\n",
       "</style>\n",
       "<table border=\"1\" class=\"dataframe\">\n",
       "  <thead>\n",
       "    <tr style=\"text-align: right;\">\n",
       "      <th></th>\n",
       "      <th>Borough</th>\n",
       "      <th>Neighborhood</th>\n",
       "      <th>Latitude</th>\n",
       "      <th>Longitude</th>\n",
       "      <th>Average Rating</th>\n",
       "    </tr>\n",
       "  </thead>\n",
       "  <tbody>\n",
       "    <tr>\n",
       "      <th>0</th>\n",
       "      <td>Manhattan</td>\n",
       "      <td>Flatiron</td>\n",
       "      <td>40.739673</td>\n",
       "      <td>-73.990947</td>\n",
       "      <td>8.9</td>\n",
       "    </tr>\n",
       "    <tr>\n",
       "      <th>1</th>\n",
       "      <td>Manhattan</td>\n",
       "      <td>Gramercy</td>\n",
       "      <td>40.737210</td>\n",
       "      <td>-73.981376</td>\n",
       "      <td>8.9</td>\n",
       "    </tr>\n",
       "    <tr>\n",
       "      <th>2</th>\n",
       "      <td>Brooklyn</td>\n",
       "      <td>Gravesend</td>\n",
       "      <td>40.595260</td>\n",
       "      <td>-73.973471</td>\n",
       "      <td>8.0</td>\n",
       "    </tr>\n",
       "    <tr>\n",
       "      <th>3</th>\n",
       "      <td>Brooklyn</td>\n",
       "      <td>Manhattan Terrace</td>\n",
       "      <td>40.614433</td>\n",
       "      <td>-73.957438</td>\n",
       "      <td>7.6</td>\n",
       "    </tr>\n",
       "    <tr>\n",
       "      <th>4</th>\n",
       "      <td>Brooklyn</td>\n",
       "      <td>Ocean Parkway</td>\n",
       "      <td>40.613060</td>\n",
       "      <td>-73.968367</td>\n",
       "      <td>7.6</td>\n",
       "    </tr>\n",
       "  </tbody>\n",
       "</table>\n",
       "</div>"
      ],
      "text/plain": [
       "     Borough       Neighborhood   Latitude  Longitude  Average Rating\n",
       "0  Manhattan           Flatiron  40.739673 -73.990947             8.9\n",
       "1  Manhattan           Gramercy  40.737210 -73.981376             8.9\n",
       "2   Brooklyn          Gravesend  40.595260 -73.973471             8.0\n",
       "3   Brooklyn  Manhattan Terrace  40.614433 -73.957438             7.6\n",
       "4   Brooklyn      Ocean Parkway  40.613060 -73.968367             7.6"
      ]
     },
     "execution_count": 56,
     "metadata": {},
     "output_type": "execute_result"
    }
   ],
   "source": [
    "ny_neighborhood_stats"
   ]
  },
  {
   "cell_type": "markdown",
   "metadata": {},
   "source": [
    "Finally, Let's show this data on a map."
   ]
  },
  {
   "cell_type": "code",
   "execution_count": 57,
   "metadata": {},
   "outputs": [],
   "source": [
    "ny_map = folium.Map(location=geo_location('New York'), zoom_start=12)"
   ]
  },
  {
   "cell_type": "code",
   "execution_count": 58,
   "metadata": {},
   "outputs": [],
   "source": [
    "# instantiate a feature group for the incidents in the dataframe\n",
    "incidents = folium.map.FeatureGroup()\n",
    "\n",
    "# loop through the neighborhood and add each to the feature group\n",
    "for lat, lng, in ny_neighborhood_stats[['Latitude','Longitude']].values:\n",
    "    incidents.add_child(\n",
    "        folium.CircleMarker(\n",
    "            [lat, lng],\n",
    "            radius=10, # define how big you want the circle markers to be\n",
    "            color='yellow',\n",
    "            fill=True,\n",
    "            fill_color='blue',\n",
    "            fill_opacity=0.6\n",
    "        )\n",
    "    )"
   ]
  },
  {
   "cell_type": "markdown",
   "metadata": {},
   "source": [
    "Lets add a new field to dataframe for labeling purpose."
   ]
  },
  {
   "cell_type": "code",
   "execution_count": 59,
   "metadata": {},
   "outputs": [],
   "source": [
    "ny_neighborhood_stats['Label']=ny_neighborhood_stats['Neighborhood']+', '+ny_neighborhood_stats['Borough']+'('+ny_neighborhood_stats['Average Rating'].map(str)+')'"
   ]
  },
  {
   "cell_type": "code",
   "execution_count": 60,
   "metadata": {},
   "outputs": [
    {
     "data": {
      "text/html": [
       "<div style=\"width:100%;\"><div style=\"position:relative;width:100%;height:0;padding-bottom:60%;\"><span style=\"color:#565656\">Make this Notebook Trusted to load map: File -> Trust Notebook</span><iframe src=\"about:blank\" style=\"position:absolute;width:100%;height:100%;left:0;top:0;border:none !important;\" data-html=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 onload=\"this.contentDocument.open();this.contentDocument.write(atob(this.getAttribute('data-html')));this.contentDocument.close();\" allowfullscreen webkitallowfullscreen mozallowfullscreen></iframe></div></div>"
      ],
      "text/plain": [
       "<folium.folium.Map at 0x7fb85b40ad30>"
      ]
     },
     "execution_count": 60,
     "metadata": {},
     "output_type": "execute_result"
    }
   ],
   "source": [
    "# add pop-up text to each marker on the map\n",
    "for lat, lng, label in ny_neighborhood_stats[['Latitude','Longitude','Label']].values:\n",
    "    folium.Marker([lat, lng], popup=label).add_to(ny_map)        \n",
    "# add incidents to map\n",
    "ny_map.add_child(incidents)"
   ]
  },
  {
   "cell_type": "markdown",
   "metadata": {},
   "source": [
    "Now that we have visualized the Neighborhoods. Lets Visualize Boroughs based on average rating."
   ]
  },
  {
   "cell_type": "code",
   "execution_count": 71,
   "metadata": {},
   "outputs": [],
   "source": [
    "ny_map = folium.Map(location=geo_location('New York'), zoom_start=12)\n",
    "ny_geo = r'Borough_Boundaries.geojson'\n",
    "\n",
    "map = ny_map.choropleth(\n",
    "    geo_data=ny_geo,\n",
    "    data=ny_borough_stats,\n",
    "    columns=['Borough', 'Average Rating'],\n",
    "    key_on='feature.properties.boro_name',\n",
    "    fill_color='YlOrRd', \n",
    "    fill_opacity=0.7, \n",
    "    line_opacity=0.2,\n",
    "    legend_name='Average Rating'\n",
    ")\n",
    "\n",
    "# display map\n",
    "# as this is huge map data , we will save it to a file\n",
    "ny_map.save('borough_rating.html')"
   ]
  },
  {
   "cell_type": "markdown",
   "metadata": {},
   "source": [
    "***Conclusion:***\n",
    "Russian restaurants are especially frequent in Sheepshead Bay (Brooklyn), Homecrest (Brooklyn), and Brighton Beach (Brooklyn). For this reason the mentioned neighbourhoods are no so attractive for opening new Russian restaurant (here this market is filled). At the same time there are two Russian restaurant situated at Manhattan having the best rating. It is also not so easy to complete with them, especially at the beginning. Then the boroughts being open for opening new Russian restaurants are Bronx, Queens and Staten Island since the are no such restaurants there.\n",
    "\n",
    "If you would like to try Russian cousine, the situation is inversed: Brooklyn and Manhattan are the best locations for you."
   ]
  },
  {
   "cell_type": "code",
   "execution_count": null,
   "metadata": {},
   "outputs": [],
   "source": []
  }
 ],
 "metadata": {
  "kernelspec": {
   "display_name": "Python",
   "language": "python",
   "name": "conda-env-python-py"
  },
  "language_info": {
   "codemirror_mode": {
    "name": "ipython",
    "version": 3
   },
   "file_extension": ".py",
   "mimetype": "text/x-python",
   "name": "python",
   "nbconvert_exporter": "python",
   "pygments_lexer": "ipython3",
   "version": "3.6.11"
  }
 },
 "nbformat": 4,
 "nbformat_minor": 4
}
